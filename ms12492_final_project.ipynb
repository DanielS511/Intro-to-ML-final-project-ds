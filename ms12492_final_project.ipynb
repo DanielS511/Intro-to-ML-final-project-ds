{
 "cells": [
  {
   "cell_type": "markdown",
   "metadata": {},
   "source": [
    "# Intro to ML Final Project\n",
    "Daniel Sun"
   ]
  },
  {
   "cell_type": "code",
   "execution_count": 115,
   "metadata": {},
   "outputs": [],
   "source": [
    "import torch\n",
    "import torch.nn as nn\n",
    "import torch.nn.functional as F\n",
    "import torch.optim as optim\n",
    "from torch.utils.data import Dataset, DataLoader\n",
    "from torchvision import datasets, transforms\n",
    "from torchvision.transforms import ToTensor\n",
    "import matplotlib.pyplot as plt\n",
    "import numpy as np\n",
    "import os\n",
    "import cv2\n",
    "import pickle as pkl\n",
    "from torchvision.models import resnet50, ResNet50_Weights\n",
    "import albumentations as A\n",
    "from albumentations.pytorch import ToTensorV2"
   ]
  },
  {
   "cell_type": "code",
   "execution_count": 117,
   "metadata": {},
   "outputs": [],
   "source": [
    "device = torch.device(\"cuda\" if torch.cuda.is_available() else \"cpu\")"
   ]
  },
  {
   "cell_type": "code",
   "execution_count": 119,
   "metadata": {},
   "outputs": [],
   "source": [
    "class LazyLoadDataset(Dataset):\n",
    "  def __init__(self, path, train=True, transform=None):\n",
    "    self.transform = transform\n",
    "    path = path + (\"train/\" if train else \"test/\")\n",
    "\n",
    "    self.pathX = path + \"X/\"\n",
    "    self.pathY = path + \"Y/\"\n",
    "\n",
    "    self.data = os.listdir(self.pathX)\n",
    "    self.train = train\n",
    "  \n",
    "  def __getitem__(self, idx):\n",
    "    f = self.data[idx]\n",
    "\n",
    "    img0 = cv2.imread(self.pathX + f + \"/rgb/0.png\")\n",
    "    img1 = cv2.imread(self.pathX + f + \"/rgb/1.png\")\n",
    "    img2 = cv2.imread(self.pathX + f + \"/rgb/2.png\")\n",
    "\n",
    "    if self.transform is not None:\n",
    "      img0 = self.transform(img0)\n",
    "      img1 = self.transform(img1)\n",
    "      img2 = self.transform(img2)\n",
    "    \n",
    "    depth = np.load(self.pathX + f + \"/depth.npy\") \n",
    "    # depth = self.transform(depth)\n",
    "\n",
    "    field_id = pkl.load(open(self.pathX + f + \"/field_id.pkl\", \"rb\"))\n",
    "\n",
    "    \n",
    "    Y = np.load(self.pathY + f + \".npy\") * 1000\n",
    "    return (img0, img1, img2, depth), Y\n",
    "\n",
    "  def __len__(self):\n",
    "    return len(self.data)"
   ]
  },
  {
   "cell_type": "code",
   "execution_count": 121,
   "metadata": {},
   "outputs": [],
   "source": [
    "data_transforms = {\n",
    "    'train': transforms.Compose([\n",
    "        transforms.ToPILImage(),\n",
    "        transforms.RandomRotation(45),\n",
    "        transforms.RandomResizedCrop(224),\n",
    "        transforms.RandomHorizontalFlip(),\n",
    "        #transforms.Resize((224, 224)),#attention \n",
    "        transforms.ToTensor(),\n",
    "        transforms.Normalize([0.485, 0.456, 0.406], \n",
    "                            [0.229, 0.224, 0.225])\n",
    "    ]),\n",
    "    'test': transforms.Compose([\n",
    "        transforms.ToPILImage(),\n",
    "        transforms.Resize(256),\n",
    "        transforms.CenterCrop(224),\n",
    "        transforms.ToTensor(),\n",
    "        transforms.Normalize([0.485, 0.456, 0.406], \n",
    "                             [0.229, 0.224, 0.225])\n",
    "    ]),\n",
    "}"
   ]
  },
  {
   "cell_type": "code",
   "execution_count": 123,
   "metadata": {},
   "outputs": [],
   "source": [
    "train_dataset = LazyLoadDataset(\"./lazydata/\", transform=data_transforms['train'])\n",
    "test_dataset = LazyLoadDataset(\"./lazydata/\", transform=data_transforms['test'], train=False)"
   ]
  },
  {
   "cell_type": "code",
   "execution_count": 124,
   "metadata": {},
   "outputs": [],
   "source": [
    "train_loader = torch.utils.data.DataLoader(train_dataset, batch_size=2, shuffle=False)\n",
    "test_loader = torch.utils.data.DataLoader(test_dataset, batch_size=2, shuffle=False)"
   ]
  },
  {
   "cell_type": "code",
   "execution_count": 126,
   "metadata": {},
   "outputs": [
    {
     "name": "stdout",
     "output_type": "stream",
     "text": [
      "0\n",
      "torch.Size([2, 3, 224, 224])\n",
      "torch.Size([2, 3, 224, 224])\n",
      "torch.Size([2, 3, 224, 224])\n",
      "torch.Size([2, 3, 224, 224])\n",
      "torch.Size([2, 12, 224, 224])\n"
     ]
    }
   ],
   "source": [
    "\n",
    "for batch_idx, (data, target) in enumerate(train_loader):\n",
    "  print(batch_idx)\n",
    "  # print(data.shape)\n",
    "  # print(target.shape)\n",
    "  # img0, img1, img2, depth, field_id = data\n",
    "  img0, img1, img2, depth = data\n",
    "  print(img0.shape)\n",
    "  print(img1.shape)\n",
    "  print(img1.shape)\n",
    "  \n",
    "  print(depth.shape)\n",
    "  concate = torch.cat((img0, img1, img2, depth), dim=1)\n",
    "  print(concate.shape)\n",
    "  # print(depth.shape)\n",
    "  # print(len(field_id))\n",
    "  break"
   ]
  },
  {
   "cell_type": "code",
   "execution_count": 127,
   "metadata": {},
   "outputs": [],
   "source": [
    "def train(epoch, model, optimizer, permute_pixels=None, permutation_order=None):\n",
    "    \"\"\"\n",
    "    Train the model for one epoch\n",
    "\n",
    "    Args:\n",
    "        epoch (int): current epoch\n",
    "        model (nn.Module): model to train\n",
    "        optimizer (torch.optim): optimizer to use\n",
    "        permute_pixels (function): function to permute the pixels (default: None)\n",
    "        permutation_order (1D torch array): order of the permutation (default: None)\n",
    "    \"\"\"\n",
    "    model.train()\n",
    "    for batch_idx, ((img0, img1, img2, depth), target) in enumerate(train_loader):\n",
    "        # send to device\n",
    "        concate = torch.cat((img0, img1, img2, depth), dim=1)\n",
    "        data, target = concate.to(device), target.to(device)\n",
    "        \n",
    "        # permute pixels\n",
    "        if permute_pixels is not None:\n",
    "            data = permute_pixels(data, permutation_order)\n",
    "\n",
    "        optimizer.zero_grad()\n",
    "        model = model.to(device)\n",
    "        output = model(data)\n",
    "        lossFn = nn.MSELoss()\n",
    "        loss = lossFn(output.float(), target.float())\n",
    "        loss.backward()\n",
    "        optimizer.step()\n",
    "        if batch_idx % 100 == 0:\n",
    "            print('Train Epoch: {} [{}/{} ({:.0f}%)]\\tLoss: {:.6f}'.format(\n",
    "                epoch, batch_idx * len(data), len(train_loader.dataset),\n",
    "                100. * batch_idx / len(train_loader), loss.item()))\n"
   ]
  },
  {
   "cell_type": "code",
   "execution_count": 128,
   "metadata": {},
   "outputs": [],
   "source": [
    "def get_n_params(model):\n",
    "    # return number of parameters in model\n",
    "    pp=0\n",
    "    for p in list(model.parameters()):\n",
    "        nn=1\n",
    "        for s in list(p.size()):\n",
    "            nn = nn*s\n",
    "        pp += nn\n",
    "    return pp"
   ]
  },
  {
   "cell_type": "code",
   "execution_count": 129,
   "metadata": {},
   "outputs": [],
   "source": [
    "model = resnet50(weights=ResNet50_Weights.DEFAULT)\n",
    "model = model.to(device)\n",
    "model.eval()\n",
    "model.float()\n",
    "model.fc = nn.Linear(2048, 12)\n",
    "weight = model.conv1.weight.clone()\n",
    "model.conv1 = nn.Conv2d(12, 64, kernel_size=7, stride=2, padding=3, bias=False)\n",
    "with torch.no_grad():\n",
    "    model.conv1.weight[:, :3] = weight\n",
    "    model.conv1.weight[:, 3] = model.conv1.weight[:, 0]"
   ]
  },
  {
   "cell_type": "code",
   "execution_count": 130,
   "metadata": {},
   "outputs": [
    {
     "name": "stdout",
     "output_type": "stream",
     "text": [
      "Number of parameters: 23560844\n",
      "Train Epoch: 0 [0/3396 (0%)]\tLoss: 4901.038574\n",
      "Train Epoch: 0 [200/3396 (6%)]\tLoss: 976.728027\n",
      "Train Epoch: 0 [400/3396 (12%)]\tLoss: 888.708252\n",
      "Train Epoch: 0 [600/3396 (18%)]\tLoss: 143.322571\n",
      "Train Epoch: 0 [800/3396 (24%)]\tLoss: 316.897217\n",
      "Train Epoch: 0 [1000/3396 (29%)]\tLoss: 343.783875\n",
      "Train Epoch: 0 [1200/3396 (35%)]\tLoss: 697.615112\n",
      "Train Epoch: 0 [1400/3396 (41%)]\tLoss: 392.372803\n",
      "Train Epoch: 0 [1600/3396 (47%)]\tLoss: 742.826660\n",
      "Train Epoch: 0 [1800/3396 (53%)]\tLoss: 706.297729\n",
      "Train Epoch: 0 [2000/3396 (59%)]\tLoss: 713.505005\n",
      "Train Epoch: 0 [2200/3396 (65%)]\tLoss: 313.778442\n",
      "Train Epoch: 0 [2400/3396 (71%)]\tLoss: 1247.396240\n",
      "Train Epoch: 0 [2600/3396 (77%)]\tLoss: 601.344727\n",
      "Train Epoch: 0 [2800/3396 (82%)]\tLoss: 410.848999\n",
      "Train Epoch: 0 [3000/3396 (88%)]\tLoss: 459.314056\n",
      "Train Epoch: 0 [3200/3396 (94%)]\tLoss: 1081.104980\n",
      "Train Epoch: 1 [0/3396 (0%)]\tLoss: 870.034546\n",
      "Train Epoch: 1 [200/3396 (6%)]\tLoss: 847.153320\n",
      "Train Epoch: 1 [400/3396 (12%)]\tLoss: 397.567322\n",
      "Train Epoch: 1 [600/3396 (18%)]\tLoss: 143.025055\n",
      "Train Epoch: 1 [800/3396 (24%)]\tLoss: 340.106140\n",
      "Train Epoch: 1 [1000/3396 (29%)]\tLoss: 309.326874\n",
      "Train Epoch: 1 [1200/3396 (35%)]\tLoss: 427.506927\n",
      "Train Epoch: 1 [1400/3396 (41%)]\tLoss: 578.130127\n",
      "Train Epoch: 1 [1600/3396 (47%)]\tLoss: 352.859833\n",
      "Train Epoch: 1 [1800/3396 (53%)]\tLoss: 821.894043\n",
      "Train Epoch: 1 [2000/3396 (59%)]\tLoss: 555.092163\n",
      "Train Epoch: 1 [2200/3396 (65%)]\tLoss: 449.892181\n",
      "Train Epoch: 1 [2400/3396 (71%)]\tLoss: 564.071533\n",
      "Train Epoch: 1 [2600/3396 (77%)]\tLoss: 413.862061\n",
      "Train Epoch: 1 [2800/3396 (82%)]\tLoss: 295.086548\n",
      "Train Epoch: 1 [3000/3396 (88%)]\tLoss: 537.498535\n",
      "Train Epoch: 1 [3200/3396 (94%)]\tLoss: 433.515106\n",
      "Train Epoch: 2 [0/3396 (0%)]\tLoss: 325.595795\n",
      "Train Epoch: 2 [200/3396 (6%)]\tLoss: 222.417343\n",
      "Train Epoch: 2 [400/3396 (12%)]\tLoss: 84.915596\n",
      "Train Epoch: 2 [600/3396 (18%)]\tLoss: 167.570023\n",
      "Train Epoch: 2 [800/3396 (24%)]\tLoss: 65.110794\n",
      "Train Epoch: 2 [1000/3396 (29%)]\tLoss: 173.978088\n",
      "Train Epoch: 2 [1200/3396 (35%)]\tLoss: 198.832504\n",
      "Train Epoch: 2 [1400/3396 (41%)]\tLoss: 528.504272\n",
      "Train Epoch: 2 [1600/3396 (47%)]\tLoss: 116.784286\n",
      "Train Epoch: 2 [1800/3396 (53%)]\tLoss: 358.542572\n",
      "Train Epoch: 2 [2000/3396 (59%)]\tLoss: 175.081512\n",
      "Train Epoch: 2 [2200/3396 (65%)]\tLoss: 212.417114\n",
      "Train Epoch: 2 [2400/3396 (71%)]\tLoss: 204.962814\n",
      "Train Epoch: 2 [2600/3396 (77%)]\tLoss: 250.071930\n",
      "Train Epoch: 2 [2800/3396 (82%)]\tLoss: 139.912903\n",
      "Train Epoch: 2 [3000/3396 (88%)]\tLoss: 160.148651\n",
      "Train Epoch: 2 [3200/3396 (94%)]\tLoss: 46.598740\n"
     ]
    }
   ],
   "source": [
    "optimizer = torch.optim.SGD(model.parameters(), lr=0.01, momentum=0.9)\n",
    "print('Number of parameters: {}'.format(get_n_params(model)))\n",
    "\n",
    "test_accuracy = []\n",
    "for epoch in range(0, 3):\n",
    "    train(epoch, model, optimizer)"
   ]
  },
  {
   "cell_type": "code",
   "execution_count": 131,
   "metadata": {},
   "outputs": [
    {
     "name": "stdout",
     "output_type": "stream",
     "text": [
      "Written to csv file submission.csv\n"
     ]
    }
   ],
   "source": [
    "import pickle\n",
    "import pandas as pd\n",
    "\n",
    "outfile = 'submission.csv'\n",
    "\n",
    "output_file = open(outfile, 'w')\n",
    "\n",
    "titles = ['ID', 'FINGER_POS_1', 'FINGER_POS_2', 'FINGER_POS_3', 'FINGER_POS_4', 'FINGER_POS_5', 'FINGER_POS_6',\n",
    "         'FINGER_POS_7', 'FINGER_POS_8', 'FINGER_POS_9', 'FINGER_POS_10', 'FINGER_POS_11', 'FINGER_POS_12']\n",
    "preds = []\n",
    "\n",
    "test_data = torch.load('./test/test/testX.pt')\n",
    "file_ids = test_data[-1]\n",
    "rgb_data = test_data[0]\n",
    "depth = test_data[1]\n",
    "model.eval()\n",
    "\n",
    "for i, data in enumerate(rgb_data):\n",
    "    # Please remember to modify this loop, input and output based on your model/architecture\n",
    "    data = data.view(-1, 224, 224)\n",
    "    data = torch.cat((data, depth[i]), dim=0)\n",
    "    data = torch.unsqueeze(data, 0)\n",
    "    output = model(data.to('cuda')) /1000\n",
    "    preds.append(output[0].cpu().detach().numpy())\n",
    "\n",
    "df = pd.concat([pd.DataFrame(file_ids), pd.DataFrame.from_records(preds)], axis = 1, names = titles)\n",
    "df.columns = titles\n",
    "df.to_csv(outfile, index = False)\n",
    "print(\"Written to csv file {}\".format(outfile))"
   ]
  }
 ],
 "metadata": {
  "kernelspec": {
   "display_name": "Python 3.9.12 ('base')",
   "language": "python",
   "name": "python3"
  },
  "language_info": {
   "codemirror_mode": {
    "name": "ipython",
    "version": 3
   },
   "file_extension": ".py",
   "mimetype": "text/x-python",
   "name": "python",
   "nbconvert_exporter": "python",
   "pygments_lexer": "ipython3",
   "version": "3.9.12"
  },
  "orig_nbformat": 4,
  "vscode": {
   "interpreter": {
    "hash": "98df1a0825261fa5da2004b0c92c481089275adf1d4b1391f737350e394b16e8"
   }
  }
 },
 "nbformat": 4,
 "nbformat_minor": 2
}
