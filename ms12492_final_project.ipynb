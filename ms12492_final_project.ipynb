{
 "cells": [
  {
   "cell_type": "markdown",
   "metadata": {},
   "source": [
    "# Intro to ML Final Project\n",
    "Daniel Sun"
   ]
  },
  {
   "cell_type": "code",
   "execution_count": 1,
   "metadata": {},
   "outputs": [],
   "source": [
    "import torch\n",
    "import torch.nn as nn\n",
    "import torch.nn.functional as F\n",
    "import torch.optim as optim\n",
    "from torch.utils.data import Dataset, DataLoader\n",
    "from torchvision import datasets, transforms\n",
    "from torchvision.transforms import ToTensor\n",
    "import matplotlib.pyplot as plt\n",
    "import numpy as np\n",
    "import os\n",
    "import cv2\n",
    "import pickle as pkl\n",
    "from torchvision.models import resnet50, ResNet50_Weights\n",
    "import albumentations as A\n",
    "from albumentations.pytorch import ToTensorV2"
   ]
  },
  {
   "cell_type": "code",
   "execution_count": 2,
   "metadata": {},
   "outputs": [],
   "source": [
    "# torch.cuda.empty_cache()"
   ]
  },
  {
   "cell_type": "code",
   "execution_count": 3,
   "metadata": {},
   "outputs": [],
   "source": [
    "device = torch.device(\"cuda\" if torch.cuda.is_available() else \"cpu\")"
   ]
  },
  {
   "cell_type": "code",
   "execution_count": 4,
   "metadata": {},
   "outputs": [
    {
     "data": {
      "text/plain": [
       "device(type='cuda')"
      ]
     },
     "execution_count": 4,
     "metadata": {},
     "output_type": "execute_result"
    }
   ],
   "source": [
    "device"
   ]
  },
  {
   "cell_type": "code",
   "execution_count": 5,
   "metadata": {},
   "outputs": [],
   "source": [
    "class LazyLoadDataset(Dataset):\n",
    "  def __init__(self, path, train=True, transform=None):\n",
    "    self.transform = transform\n",
    "    path = path + (\"train/\" if train else \"test/\")\n",
    "\n",
    "    self.pathX = path + \"X/\"\n",
    "    self.pathY = path + \"Y/\"\n",
    "\n",
    "    self.data = os.listdir(self.pathX)\n",
    "    self.train = train\n",
    "  \n",
    "  def __getitem__(self, idx):\n",
    "    f = self.data[idx]\n",
    "\n",
    "    img0 = cv2.imread(self.pathX + f + \"/rgb/0.png\")\n",
    "    img1 = cv2.imread(self.pathX + f + \"/rgb/1.png\")\n",
    "    img2 = cv2.imread(self.pathX + f + \"/rgb/2.png\")\n",
    "\n",
    "    if self.transform is not None:\n",
    "      img0 = self.transform(img0)\n",
    "      img1 = self.transform(img1)\n",
    "      img2 = self.transform(img2)\n",
    "    \n",
    "    depth = np.load(self.pathX + f + \"/depth.npy\") \n",
    "    depth = self.transform(depth)\n",
    "\n",
    "    field_id = pkl.load(open(self.pathX + f + \"/field_id.pkl\", \"rb\"))\n",
    "\n",
    "    if self.train:\n",
    "      Y = np.load(self.pathY + f + \".npy\") * 1000\n",
    "      return (img0, img1, img2, depth), Y\n",
    "    else:\n",
    "      return (img0, img1, img2)\n",
    "\n",
    "  def __len__(self):\n",
    "    return len(self.data)"
   ]
  },
  {
   "cell_type": "code",
   "execution_count": 6,
   "metadata": {},
   "outputs": [],
   "source": [
    "def normolize (img):\n",
    "  return cv2.normalize(img, None, alpha=0, beta=1,\n",
    "                             norm_type=cv2.NORM_MINMAX, dtype=cv2.CV_32F)"
   ]
  },
  {
   "cell_type": "code",
   "execution_count": 7,
   "metadata": {},
   "outputs": [],
   "source": [
    "data_transforms = {\n",
    "    'train': transforms.Compose([\n",
    "        transforms.ToPILImage(),\n",
    "        transforms.RandomRotation(45),\n",
    "        transforms.RandomResizedCrop(224),\n",
    "        transforms.RandomHorizontalFlip(),\n",
    "        #transforms.Resize((224, 224)),#attention \n",
    "        transforms.ToTensor(),\n",
    "        transforms.Normalize([0.485, 0.456, 0.406], \n",
    "                            [0.229, 0.224, 0.225])\n",
    "    ]),\n",
    "    'test': transforms.Compose([\n",
    "        transforms.ToPILImage(),\n",
    "        transforms.Resize(256),\n",
    "        transforms.CenterCrop(224),\n",
    "        transforms.ToTensor(),\n",
    "        transforms.Normalize([0.485, 0.456, 0.406], \n",
    "                             [0.229, 0.224, 0.225])\n",
    "    ]),\n",
    "}"
   ]
  },
  {
   "cell_type": "code",
   "execution_count": 8,
   "metadata": {},
   "outputs": [],
   "source": [
    "augs = A.Compose([A.Resize(height  = 224, \n",
    "                           width   = 224),\n",
    "                  A.Normalize(mean = (0), \n",
    "                              std  = (1)),\n",
    "                  ToTensorV2()])"
   ]
  },
  {
   "cell_type": "code",
   "execution_count": 9,
   "metadata": {},
   "outputs": [],
   "source": [
    "train_dataset = LazyLoadDataset(\"./lazydata/\", transform=data_transforms['train'])\n",
    "test_dataset = LazyLoadDataset(\"./lazydata/\", transform=data_transforms['test'], train=False)"
   ]
  },
  {
   "cell_type": "code",
   "execution_count": 10,
   "metadata": {},
   "outputs": [],
   "source": [
    "train_loader = torch.utils.data.DataLoader(train_dataset, batch_size=2, shuffle=False)\n",
    "test_loader = torch.utils.data.DataLoader(test_dataset, batch_size=2, shuffle=False)"
   ]
  },
  {
   "cell_type": "code",
   "execution_count": 11,
   "metadata": {},
   "outputs": [],
   "source": [
    "# (img0, img1, img2, depth, field_id), Y = train_dataset[0]\n",
    "# img0.shape\n",
    "# , img0.shape, img0.shape, depth.shape, field_id "
   ]
  },
  {
   "cell_type": "code",
   "execution_count": 12,
   "metadata": {},
   "outputs": [
    {
     "ename": "ValueError",
     "evalue": "pic should not have > 4 channels. Got 224 channels.",
     "output_type": "error",
     "traceback": [
      "\u001b[1;31m---------------------------------------------------------------------------\u001b[0m",
      "\u001b[1;31mValueError\u001b[0m                                Traceback (most recent call last)",
      "\u001b[1;32me:\\Intro to ML\\ms12492_final_project.ipynb Cell 13\u001b[0m in \u001b[0;36m<module>\u001b[1;34m\u001b[0m\n\u001b[1;32m----> <a href='vscode-notebook-cell:/e%3A/Intro%20to%20ML/ms12492_final_project.ipynb#X14sZmlsZQ%3D%3D?line=0'>1</a>\u001b[0m \u001b[39mfor\u001b[39;00m batch_idx, (data, target) \u001b[39min\u001b[39;00m \u001b[39menumerate\u001b[39m(train_loader):\n\u001b[0;32m      <a href='vscode-notebook-cell:/e%3A/Intro%20to%20ML/ms12492_final_project.ipynb#X14sZmlsZQ%3D%3D?line=1'>2</a>\u001b[0m   \u001b[39mprint\u001b[39m(batch_idx)\n\u001b[0;32m      <a href='vscode-notebook-cell:/e%3A/Intro%20to%20ML/ms12492_final_project.ipynb#X14sZmlsZQ%3D%3D?line=2'>3</a>\u001b[0m   \u001b[39m# print(data.shape)\u001b[39;00m\n\u001b[0;32m      <a href='vscode-notebook-cell:/e%3A/Intro%20to%20ML/ms12492_final_project.ipynb#X14sZmlsZQ%3D%3D?line=3'>4</a>\u001b[0m   \u001b[39m# print(target.shape)\u001b[39;00m\n\u001b[0;32m      <a href='vscode-notebook-cell:/e%3A/Intro%20to%20ML/ms12492_final_project.ipynb#X14sZmlsZQ%3D%3D?line=4'>5</a>\u001b[0m   \u001b[39m# img0, img1, img2, depth, field_id = data\u001b[39;00m\n",
      "File \u001b[1;32mc:\\Users\\Danie\\anaconda3\\lib\\site-packages\\torch\\utils\\data\\dataloader.py:628\u001b[0m, in \u001b[0;36m_BaseDataLoaderIter.__next__\u001b[1;34m(self)\u001b[0m\n\u001b[0;32m    625\u001b[0m \u001b[39mif\u001b[39;00m \u001b[39mself\u001b[39m\u001b[39m.\u001b[39m_sampler_iter \u001b[39mis\u001b[39;00m \u001b[39mNone\u001b[39;00m:\n\u001b[0;32m    626\u001b[0m     \u001b[39m# TODO(https://github.com/pytorch/pytorch/issues/76750)\u001b[39;00m\n\u001b[0;32m    627\u001b[0m     \u001b[39mself\u001b[39m\u001b[39m.\u001b[39m_reset()  \u001b[39m# type: ignore[call-arg]\u001b[39;00m\n\u001b[1;32m--> 628\u001b[0m data \u001b[39m=\u001b[39m \u001b[39mself\u001b[39;49m\u001b[39m.\u001b[39;49m_next_data()\n\u001b[0;32m    629\u001b[0m \u001b[39mself\u001b[39m\u001b[39m.\u001b[39m_num_yielded \u001b[39m+\u001b[39m\u001b[39m=\u001b[39m \u001b[39m1\u001b[39m\n\u001b[0;32m    630\u001b[0m \u001b[39mif\u001b[39;00m \u001b[39mself\u001b[39m\u001b[39m.\u001b[39m_dataset_kind \u001b[39m==\u001b[39m _DatasetKind\u001b[39m.\u001b[39mIterable \u001b[39mand\u001b[39;00m \\\n\u001b[0;32m    631\u001b[0m         \u001b[39mself\u001b[39m\u001b[39m.\u001b[39m_IterableDataset_len_called \u001b[39mis\u001b[39;00m \u001b[39mnot\u001b[39;00m \u001b[39mNone\u001b[39;00m \u001b[39mand\u001b[39;00m \\\n\u001b[0;32m    632\u001b[0m         \u001b[39mself\u001b[39m\u001b[39m.\u001b[39m_num_yielded \u001b[39m>\u001b[39m \u001b[39mself\u001b[39m\u001b[39m.\u001b[39m_IterableDataset_len_called:\n",
      "File \u001b[1;32mc:\\Users\\Danie\\anaconda3\\lib\\site-packages\\torch\\utils\\data\\dataloader.py:671\u001b[0m, in \u001b[0;36m_SingleProcessDataLoaderIter._next_data\u001b[1;34m(self)\u001b[0m\n\u001b[0;32m    669\u001b[0m \u001b[39mdef\u001b[39;00m \u001b[39m_next_data\u001b[39m(\u001b[39mself\u001b[39m):\n\u001b[0;32m    670\u001b[0m     index \u001b[39m=\u001b[39m \u001b[39mself\u001b[39m\u001b[39m.\u001b[39m_next_index()  \u001b[39m# may raise StopIteration\u001b[39;00m\n\u001b[1;32m--> 671\u001b[0m     data \u001b[39m=\u001b[39m \u001b[39mself\u001b[39;49m\u001b[39m.\u001b[39;49m_dataset_fetcher\u001b[39m.\u001b[39;49mfetch(index)  \u001b[39m# may raise StopIteration\u001b[39;00m\n\u001b[0;32m    672\u001b[0m     \u001b[39mif\u001b[39;00m \u001b[39mself\u001b[39m\u001b[39m.\u001b[39m_pin_memory:\n\u001b[0;32m    673\u001b[0m         data \u001b[39m=\u001b[39m _utils\u001b[39m.\u001b[39mpin_memory\u001b[39m.\u001b[39mpin_memory(data, \u001b[39mself\u001b[39m\u001b[39m.\u001b[39m_pin_memory_device)\n",
      "File \u001b[1;32mc:\\Users\\Danie\\anaconda3\\lib\\site-packages\\torch\\utils\\data\\_utils\\fetch.py:58\u001b[0m, in \u001b[0;36m_MapDatasetFetcher.fetch\u001b[1;34m(self, possibly_batched_index)\u001b[0m\n\u001b[0;32m     56\u001b[0m         data \u001b[39m=\u001b[39m \u001b[39mself\u001b[39m\u001b[39m.\u001b[39mdataset\u001b[39m.\u001b[39m__getitems__(possibly_batched_index)\n\u001b[0;32m     57\u001b[0m     \u001b[39melse\u001b[39;00m:\n\u001b[1;32m---> 58\u001b[0m         data \u001b[39m=\u001b[39m [\u001b[39mself\u001b[39m\u001b[39m.\u001b[39mdataset[idx] \u001b[39mfor\u001b[39;00m idx \u001b[39min\u001b[39;00m possibly_batched_index]\n\u001b[0;32m     59\u001b[0m \u001b[39melse\u001b[39;00m:\n\u001b[0;32m     60\u001b[0m     data \u001b[39m=\u001b[39m \u001b[39mself\u001b[39m\u001b[39m.\u001b[39mdataset[possibly_batched_index]\n",
      "File \u001b[1;32mc:\\Users\\Danie\\anaconda3\\lib\\site-packages\\torch\\utils\\data\\_utils\\fetch.py:58\u001b[0m, in \u001b[0;36m<listcomp>\u001b[1;34m(.0)\u001b[0m\n\u001b[0;32m     56\u001b[0m         data \u001b[39m=\u001b[39m \u001b[39mself\u001b[39m\u001b[39m.\u001b[39mdataset\u001b[39m.\u001b[39m__getitems__(possibly_batched_index)\n\u001b[0;32m     57\u001b[0m     \u001b[39melse\u001b[39;00m:\n\u001b[1;32m---> 58\u001b[0m         data \u001b[39m=\u001b[39m [\u001b[39mself\u001b[39;49m\u001b[39m.\u001b[39;49mdataset[idx] \u001b[39mfor\u001b[39;00m idx \u001b[39min\u001b[39;00m possibly_batched_index]\n\u001b[0;32m     59\u001b[0m \u001b[39melse\u001b[39;00m:\n\u001b[0;32m     60\u001b[0m     data \u001b[39m=\u001b[39m \u001b[39mself\u001b[39m\u001b[39m.\u001b[39mdataset[possibly_batched_index]\n",
      "\u001b[1;32me:\\Intro to ML\\ms12492_final_project.ipynb Cell 13\u001b[0m in \u001b[0;36mLazyLoadDataset.__getitem__\u001b[1;34m(self, idx)\u001b[0m\n\u001b[0;32m     <a href='vscode-notebook-cell:/e%3A/Intro%20to%20ML/ms12492_final_project.ipynb#X14sZmlsZQ%3D%3D?line=21'>22</a>\u001b[0m   img2 \u001b[39m=\u001b[39m \u001b[39mself\u001b[39m\u001b[39m.\u001b[39mtransform(img2)\n\u001b[0;32m     <a href='vscode-notebook-cell:/e%3A/Intro%20to%20ML/ms12492_final_project.ipynb#X14sZmlsZQ%3D%3D?line=23'>24</a>\u001b[0m depth \u001b[39m=\u001b[39m np\u001b[39m.\u001b[39mload(\u001b[39mself\u001b[39m\u001b[39m.\u001b[39mpathX \u001b[39m+\u001b[39m f \u001b[39m+\u001b[39m \u001b[39m\"\u001b[39m\u001b[39m/depth.npy\u001b[39m\u001b[39m\"\u001b[39m) \n\u001b[1;32m---> <a href='vscode-notebook-cell:/e%3A/Intro%20to%20ML/ms12492_final_project.ipynb#X14sZmlsZQ%3D%3D?line=24'>25</a>\u001b[0m depth \u001b[39m=\u001b[39m \u001b[39mself\u001b[39;49m\u001b[39m.\u001b[39;49mtransform(depth)\n\u001b[0;32m     <a href='vscode-notebook-cell:/e%3A/Intro%20to%20ML/ms12492_final_project.ipynb#X14sZmlsZQ%3D%3D?line=26'>27</a>\u001b[0m field_id \u001b[39m=\u001b[39m pkl\u001b[39m.\u001b[39mload(\u001b[39mopen\u001b[39m(\u001b[39mself\u001b[39m\u001b[39m.\u001b[39mpathX \u001b[39m+\u001b[39m f \u001b[39m+\u001b[39m \u001b[39m\"\u001b[39m\u001b[39m/field_id.pkl\u001b[39m\u001b[39m\"\u001b[39m, \u001b[39m\"\u001b[39m\u001b[39mrb\u001b[39m\u001b[39m\"\u001b[39m))\n\u001b[0;32m     <a href='vscode-notebook-cell:/e%3A/Intro%20to%20ML/ms12492_final_project.ipynb#X14sZmlsZQ%3D%3D?line=28'>29</a>\u001b[0m \u001b[39mif\u001b[39;00m \u001b[39mself\u001b[39m\u001b[39m.\u001b[39mtrain:\n",
      "File \u001b[1;32mc:\\Users\\Danie\\anaconda3\\lib\\site-packages\\torchvision\\transforms\\transforms.py:95\u001b[0m, in \u001b[0;36mCompose.__call__\u001b[1;34m(self, img)\u001b[0m\n\u001b[0;32m     93\u001b[0m \u001b[39mdef\u001b[39;00m \u001b[39m__call__\u001b[39m(\u001b[39mself\u001b[39m, img):\n\u001b[0;32m     94\u001b[0m     \u001b[39mfor\u001b[39;00m t \u001b[39min\u001b[39;00m \u001b[39mself\u001b[39m\u001b[39m.\u001b[39mtransforms:\n\u001b[1;32m---> 95\u001b[0m         img \u001b[39m=\u001b[39m t(img)\n\u001b[0;32m     96\u001b[0m     \u001b[39mreturn\u001b[39;00m img\n",
      "File \u001b[1;32mc:\\Users\\Danie\\anaconda3\\lib\\site-packages\\torchvision\\transforms\\transforms.py:227\u001b[0m, in \u001b[0;36mToPILImage.__call__\u001b[1;34m(self, pic)\u001b[0m\n\u001b[0;32m    218\u001b[0m \u001b[39mdef\u001b[39;00m \u001b[39m__call__\u001b[39m(\u001b[39mself\u001b[39m, pic):\n\u001b[0;32m    219\u001b[0m     \u001b[39m\"\"\"\u001b[39;00m\n\u001b[0;32m    220\u001b[0m \u001b[39m    Args:\u001b[39;00m\n\u001b[0;32m    221\u001b[0m \u001b[39m        pic (Tensor or numpy.ndarray): Image to be converted to PIL Image.\u001b[39;00m\n\u001b[1;32m   (...)\u001b[0m\n\u001b[0;32m    225\u001b[0m \n\u001b[0;32m    226\u001b[0m \u001b[39m    \"\"\"\u001b[39;00m\n\u001b[1;32m--> 227\u001b[0m     \u001b[39mreturn\u001b[39;00m F\u001b[39m.\u001b[39;49mto_pil_image(pic, \u001b[39mself\u001b[39;49m\u001b[39m.\u001b[39;49mmode)\n",
      "File \u001b[1;32mc:\\Users\\Danie\\anaconda3\\lib\\site-packages\\torchvision\\transforms\\functional.py:283\u001b[0m, in \u001b[0;36mto_pil_image\u001b[1;34m(pic, mode)\u001b[0m\n\u001b[0;32m    281\u001b[0m     \u001b[39m# check number of channels\u001b[39;00m\n\u001b[0;32m    282\u001b[0m     \u001b[39mif\u001b[39;00m pic\u001b[39m.\u001b[39mshape[\u001b[39m-\u001b[39m\u001b[39m1\u001b[39m] \u001b[39m>\u001b[39m \u001b[39m4\u001b[39m:\n\u001b[1;32m--> 283\u001b[0m         \u001b[39mraise\u001b[39;00m \u001b[39mValueError\u001b[39;00m(\u001b[39mf\u001b[39m\u001b[39m\"\u001b[39m\u001b[39mpic should not have > 4 channels. Got \u001b[39m\u001b[39m{\u001b[39;00mpic\u001b[39m.\u001b[39mshape[\u001b[39m-\u001b[39m\u001b[39m1\u001b[39m]\u001b[39m}\u001b[39;00m\u001b[39m channels.\u001b[39m\u001b[39m\"\u001b[39m)\n\u001b[0;32m    285\u001b[0m npimg \u001b[39m=\u001b[39m pic\n\u001b[0;32m    286\u001b[0m \u001b[39mif\u001b[39;00m \u001b[39misinstance\u001b[39m(pic, torch\u001b[39m.\u001b[39mTensor):\n",
      "\u001b[1;31mValueError\u001b[0m: pic should not have > 4 channels. Got 224 channels."
     ]
    }
   ],
   "source": [
    "\n",
    "for batch_idx, (data, target) in enumerate(train_loader):\n",
    "  print(batch_idx)\n",
    "  # print(data.shape)\n",
    "  # print(target.shape)\n",
    "  # img0, img1, img2, depth, field_id = data\n",
    "  img0, img1, img2, depth = data\n",
    "  print(img0.shape)\n",
    "  print(img1.shape)\n",
    "  print(img1.shape)\n",
    "  \n",
    "  print(depth.shape)\n",
    "  concate = torch.cat((img0, img1, img2, depth), dim=1)\n",
    "  print(concate.shape)\n",
    "  # print(depth.shape)\n",
    "  # print(len(field_id))\n",
    "  break"
   ]
  },
  {
   "cell_type": "code",
   "execution_count": null,
   "metadata": {},
   "outputs": [],
   "source": [
    "def train(epoch, model, optimizer, permute_pixels=None, permutation_order=None):\n",
    "    \"\"\"\n",
    "    Train the model for one epoch\n",
    "\n",
    "    Args:\n",
    "        epoch (int): current epoch\n",
    "        model (nn.Module): model to train\n",
    "        optimizer (torch.optim): optimizer to use\n",
    "        permute_pixels (function): function to permute the pixels (default: None)\n",
    "        permutation_order (1D torch array): order of the permutation (default: None)\n",
    "    \"\"\"\n",
    "    model.train()\n",
    "    for batch_idx, ((img0, img1, img2, depth), target) in enumerate(train_loader):\n",
    "        # send to device\n",
    "        concate = torch.cat((img0, img1, img2, depth), dim=1)\n",
    "        data, target = concate.to(device), target.to(device)\n",
    "        \n",
    "        # permute pixels\n",
    "        if permute_pixels is not None:\n",
    "            data = permute_pixels(data, permutation_order)\n",
    "\n",
    "        optimizer.zero_grad()\n",
    "        model = model.to(device)\n",
    "        output = model(data)\n",
    "        lossFn = nn.MSELoss()\n",
    "        loss = lossFn(output.float(), target.float())\n",
    "        loss.backward()\n",
    "        optimizer.step()\n",
    "        if batch_idx % 100 == 0:\n",
    "            print('Train Epoch: {} [{}/{} ({:.0f}%)]\\tLoss: {:.6f}'.format(\n",
    "                epoch, batch_idx * len(data), len(train_loader.dataset),\n",
    "                100. * batch_idx / len(train_loader), loss.item()))\n"
   ]
  },
  {
   "cell_type": "code",
   "execution_count": null,
   "metadata": {},
   "outputs": [],
   "source": [
    "def get_n_params(model):\n",
    "    # return number of parameters in model\n",
    "    pp=0\n",
    "    for p in list(model.parameters()):\n",
    "        nn=1\n",
    "        for s in list(p.size()):\n",
    "            nn = nn*s\n",
    "        pp += nn\n",
    "    return pp"
   ]
  },
  {
   "cell_type": "code",
   "execution_count": null,
   "metadata": {},
   "outputs": [],
   "source": [
    "model = resnet50(weights=ResNet50_Weights.DEFAULT)\n",
    "model = model.to(device)\n",
    "model.eval()\n",
    "model.float()\n",
    "model.fc = nn.Linear(2048, 12)\n",
    "weight = model.conv1.weight.clone()\n",
    "model.conv1 = nn.Conv2d(12, 64, kernel_size=7, stride=2, padding=3, bias=False)\n",
    "with torch.no_grad():\n",
    "    model.conv1.weight[:, :3] = weight\n",
    "    model.conv1.weight[:, 3] = model.conv1.weight[:, 0]"
   ]
  },
  {
   "cell_type": "code",
   "execution_count": null,
   "metadata": {},
   "outputs": [
    {
     "name": "stdout",
     "output_type": "stream",
     "text": [
      "Number of parameters: 23560844\n",
      "Train Epoch: 0 [0/3396 (0%)]\tLoss: 4899.673340\n",
      "Train Epoch: 0 [200/3396 (6%)]\tLoss: 1440.027100\n",
      "Train Epoch: 0 [400/3396 (12%)]\tLoss: 449.115845\n",
      "Train Epoch: 0 [600/3396 (18%)]\tLoss: 529.179565\n",
      "Train Epoch: 0 [800/3396 (24%)]\tLoss: 788.741577\n",
      "Train Epoch: 0 [1000/3396 (29%)]\tLoss: 423.420105\n",
      "Train Epoch: 0 [1200/3396 (35%)]\tLoss: 722.122559\n",
      "Train Epoch: 0 [1400/3396 (41%)]\tLoss: 399.514160\n",
      "Train Epoch: 0 [1600/3396 (47%)]\tLoss: 604.701904\n",
      "Train Epoch: 0 [1800/3396 (53%)]\tLoss: 883.576172\n",
      "Train Epoch: 0 [2000/3396 (59%)]\tLoss: 674.647705\n",
      "Train Epoch: 0 [2200/3396 (65%)]\tLoss: 347.575378\n",
      "Train Epoch: 0 [2400/3396 (71%)]\tLoss: 1317.311523\n",
      "Train Epoch: 0 [2600/3396 (77%)]\tLoss: 734.968445\n",
      "Train Epoch: 0 [2800/3396 (82%)]\tLoss: 329.986786\n",
      "Train Epoch: 0 [3000/3396 (88%)]\tLoss: 573.401733\n",
      "Train Epoch: 0 [3200/3396 (94%)]\tLoss: 1333.278442\n"
     ]
    }
   ],
   "source": [
    "optimizer = torch.optim.SGD(model.parameters(), lr=0.01, momentum=0.9)\n",
    "print('Number of parameters: {}'.format(get_n_params(model)))\n",
    "\n",
    "test_accuracy = []\n",
    "for epoch in range(0, 1):\n",
    "    train(epoch, model, optimizer)"
   ]
  },
  {
   "cell_type": "code",
   "execution_count": null,
   "metadata": {},
   "outputs": [
    {
     "name": "stdout",
     "output_type": "stream",
     "text": [
      "Written to csv file submission.csv\n"
     ]
    }
   ],
   "source": [
    "import pickle\n",
    "import pandas as pd\n",
    "\n",
    "outfile = 'submission.csv'\n",
    "\n",
    "output_file = open(outfile, 'w')\n",
    "\n",
    "titles = ['ID', 'FINGER_POS_1', 'FINGER_POS_2', 'FINGER_POS_3', 'FINGER_POS_4', 'FINGER_POS_5', 'FINGER_POS_6',\n",
    "         'FINGER_POS_7', 'FINGER_POS_8', 'FINGER_POS_9', 'FINGER_POS_10', 'FINGER_POS_11', 'FINGER_POS_12']\n",
    "preds = []\n",
    "\n",
    "test_data = torch.load('./test/test/testX.pt')\n",
    "file_ids = test_data[-1]\n",
    "rgb_data = test_data[0]\n",
    "depth = test_data[1]\n",
    "model.eval()\n",
    "\n",
    "for i, data in enumerate(rgb_data):\n",
    "    # Please remember to modify this loop, input and output based on your model/architecture\n",
    "    data = data.view(-1, 224, 224)\n",
    "    data = torch.cat((data, depth[i]), dim=0)\n",
    "    data = torch.unsqueeze(data, 0)\n",
    "    output = model(data.to('cuda')) /1000\n",
    "    preds.append(output[0].cpu().detach().numpy())\n",
    "\n",
    "df = pd.concat([pd.DataFrame(file_ids), pd.DataFrame.from_records(preds)], axis = 1, names = titles)\n",
    "df.columns = titles\n",
    "df.to_csv(outfile, index = False)\n",
    "print(\"Written to csv file {}\".format(outfile))"
   ]
  }
 ],
 "metadata": {
  "kernelspec": {
   "display_name": "Python 3.9.12 ('base')",
   "language": "python",
   "name": "python3"
  },
  "language_info": {
   "codemirror_mode": {
    "name": "ipython",
    "version": 3
   },
   "file_extension": ".py",
   "mimetype": "text/x-python",
   "name": "python",
   "nbconvert_exporter": "python",
   "pygments_lexer": "ipython3",
   "version": "3.9.12"
  },
  "orig_nbformat": 4,
  "vscode": {
   "interpreter": {
    "hash": "98df1a0825261fa5da2004b0c92c481089275adf1d4b1391f737350e394b16e8"
   }
  }
 },
 "nbformat": 4,
 "nbformat_minor": 2
}
